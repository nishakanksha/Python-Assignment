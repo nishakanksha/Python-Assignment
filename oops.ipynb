{
 "cells": [
  {
   "cell_type": "code",
   "execution_count": 28,
   "id": "b89e2727-706a-4bf6-abe8-41dd39ccfda2",
   "metadata": {},
   "outputs": [],
   "source": [
    "class bankaccount:\n",
    "    def __init__(self,Branch_name,account_number,account_holder_name,deposit_amount,withdrawn_amount,total_amount,rate_of_intrest):\n",
    "        self.Branch_name = Branch_name\n",
    "        self.account_number = account_number\n",
    "        self.account_holder_name = account_holder_name\n",
    "        self.deposit_amount = deposit_amount\n",
    "        self.withdrawn_amount = withdrawn_amount\n",
    "        self.total_amount = total_amount\n",
    "        self.rate_of_intrest = rate_of_intrest\n",
    "        \n",
    "        \n",
    "        \n",
    "    def detail_of_branch(self):\n",
    "        print(self.Branch_name)\n",
    "        \n",
    "    def detail_of_account_number(self):\n",
    "        print(self.account_number)\n",
    "        \n",
    "    def detail_of_account_holder(self):\n",
    "        print(self.account_holder_name)\n",
    "        \n",
    "    def detail_of_deposit_amount(self):\n",
    "        print(self.deposit_amount)\n",
    "        \n",
    "    def details_of_withdrawn_amount(self):\n",
    "        print(self.withdrwan_amount)\n",
    "        \n",
    "    def detail_of_total_amount(self):\n",
    "        print(\"total_amount\",(\"deposit_amount\"-\"withdrawn_amount\"))\n",
    "        \n",
    "    def details_of_rate_of_intrest(self):\n",
    "        print(self.rate_of_intrest)\n",
    "    \n",
    "    \n",
    "    \n",
    "    \n",
    "        \n",
    "\n",
    "    "
   ]
  },
  {
   "cell_type": "code",
   "execution_count": 9,
   "id": "56ce0f1b-876e-4cf3-b1bb-8e8aae5131d4",
   "metadata": {},
   "outputs": [],
   "source": [
    "akanksha = bankaccount('Bangalore',1993,'akanksha agrawal',1500,100,6)"
   ]
  },
  {
   "cell_type": "code",
   "execution_count": 12,
   "id": "c1c081d0-a5b3-4ce1-a9c8-639389c52bf0",
   "metadata": {},
   "outputs": [
    {
     "name": "stdout",
     "output_type": "stream",
     "text": [
      "Bangalore\n"
     ]
    }
   ],
   "source": [
    "akanksha.detail_of_branch()"
   ]
  },
  {
   "cell_type": "code",
   "execution_count": 13,
   "id": "b791cce1-adb6-430c-86bd-d12360e1f50d",
   "metadata": {},
   "outputs": [],
   "source": [
    "nishant = bankaccount('Bangalore',1992,'nishant agrawal',2000,600,6)"
   ]
  },
  {
   "cell_type": "code",
   "execution_count": 16,
   "id": "f3eeb2e7-761d-42cf-b80e-aef08166d39a",
   "metadata": {},
   "outputs": [
    {
     "name": "stdout",
     "output_type": "stream",
     "text": [
      "akanksha agrawal\n"
     ]
    }
   ],
   "source": [
    "akanksha.detail_of_account_holder()"
   ]
  },
  {
   "cell_type": "code",
   "execution_count": 17,
   "id": "ad4de963-3b29-4a4f-9a52-d527b0fa6ae5",
   "metadata": {},
   "outputs": [
    {
     "name": "stdout",
     "output_type": "stream",
     "text": [
      "1992\n"
     ]
    }
   ],
   "source": [
    "nishant.detail_of_account_number()"
   ]
  },
  {
   "cell_type": "code",
   "execution_count": 27,
   "id": "832be581-eeff-47c8-b8b1-9b53712e5c70",
   "metadata": {},
   "outputs": [
    {
     "name": "stdout",
     "output_type": "stream",
     "text": [
      "6\n"
     ]
    }
   ],
   "source": [
    "nishant.details_of_rate_of_intrest()"
   ]
  },
  {
   "cell_type": "code",
   "execution_count": 29,
   "id": "96f39ff2-cb08-416a-b6b8-9d2c7aa8de8a",
   "metadata": {},
   "outputs": [
    {
     "name": "stdout",
     "output_type": "stream",
     "text": [
      "6\n"
     ]
    }
   ],
   "source": [
    "akanksha.details_of_rate_of_intrest()"
   ]
  },
  {
   "cell_type": "code",
   "execution_count": null,
   "id": "c08f2660-0ddd-4355-97f2-8ac763d0406d",
   "metadata": {},
   "outputs": [],
   "source": []
  },
  {
   "cell_type": "code",
   "execution_count": 82,
   "id": "9d6e3fc0-9d51-4d1d-9a7d-2f7cd96826a9",
   "metadata": {},
   "outputs": [],
   "source": [
    "class Employees_details:\n",
    "    \n",
    "    def __init__(self,employee_id,employee_name,employee_gender,employee_department,employee_designation,employee_salary):\n",
    "        self.employee_id = employee_id\n",
    "        self.employee_name = employee_name\n",
    "        self.employee_gender = employee_gender\n",
    "        self.employee_department = employee_department\n",
    "        self.employee_designation = employee_designation\n",
    "        self.employee_salary = employee_salary\n",
    "        \n",
    "        \n",
    "    def detail_of_employee_id(self):\n",
    "        print(self.employee_id)\n",
    "        \n",
    "    def detail_of_employee_name(self):\n",
    "        print(self.employee_name)\n",
    "        \n",
    "    def detail_of_employee_gender(self):\n",
    "        print(self.employee_gender)\n",
    "        \n",
    "    def detail_of_employee_department(self):\n",
    "        print(self.employee_department)\n",
    "        \n",
    "    def detail_of_employee_designation(self):\n",
    "        print(self.employee_designation)\n",
    "        \n",
    "\n",
    "    def detail_of_employee_salary(self):\n",
    "        print(self.employee.salary)\n",
    "        \n",
    "    def detail_of_employee_yearly_bonus(self,salary,bonus):\n",
    "        print(\"emoplyee bonus\")\n",
    "        return salary*8/100\n",
    "    \n",
    "    def detail_of_employee_whole_details(self):\n",
    "        print(\"employee_id\",\"employee_name\",\"employee_gender\",\"employee_department\",\"employee_designation\",\"employee_salary\",\"employee_bonus\")\n",
    "        return employee_id + employee_name\n",
    "        \n",
    "              \n",
    "   \n",
    "    \n",
    "\n",
    "    \n",
    "    \n",
    "    \n",
    "    \n",
    "        "
   ]
  },
  {
   "cell_type": "code",
   "execution_count": 64,
   "id": "c732ce3e-08b0-4c19-8eee-d4bb0653ab37",
   "metadata": {},
   "outputs": [],
   "source": [
    "akanksha = Employees_details(1,'akanksha agrawal','f','data science','data analyst',20000)"
   ]
  },
  {
   "cell_type": "code",
   "execution_count": 65,
   "id": "7f81c5ef-7708-42ec-8a76-d7c77bab057d",
   "metadata": {},
   "outputs": [
    {
     "name": "stdout",
     "output_type": "stream",
     "text": [
      "emoplyee bonus\n"
     ]
    },
    {
     "data": {
      "text/plain": [
       "1600.0"
      ]
     },
     "execution_count": 65,
     "metadata": {},
     "output_type": "execute_result"
    }
   ],
   "source": [
    "akanksha.detail_of_employee_yearly_bonus(20000,8)"
   ]
  },
  {
   "cell_type": "code",
   "execution_count": 66,
   "id": "d5aa5403-273f-444d-adf6-d20c41d959b1",
   "metadata": {},
   "outputs": [
    {
     "name": "stdout",
     "output_type": "stream",
     "text": [
      "1\n"
     ]
    }
   ],
   "source": [
    "akanksha.detail_of_employee_id()"
   ]
  },
  {
   "cell_type": "code",
   "execution_count": 68,
   "id": "11e0934b-5e2c-43f5-86f2-d90b7c074eba",
   "metadata": {},
   "outputs": [
    {
     "name": "stdout",
     "output_type": "stream",
     "text": [
      "f\n"
     ]
    }
   ],
   "source": [
    "akanksha.detail_of_employee_gender()"
   ]
  },
  {
   "cell_type": "code",
   "execution_count": 69,
   "id": "a0e71794-30a0-4c8c-926b-3c13760e3666",
   "metadata": {},
   "outputs": [
    {
     "name": "stdout",
     "output_type": "stream",
     "text": [
      "data analyst\n"
     ]
    }
   ],
   "source": [
    "akanksha.detail_of_employee_designation()"
   ]
  },
  {
   "cell_type": "code",
   "execution_count": 80,
   "id": "f2567cc8-e49b-434c-b158-c70e2cafaa4d",
   "metadata": {},
   "outputs": [
    {
     "name": "stdout",
     "output_type": "stream",
     "text": [
      "employee_id employee_name employee_gender employee_department employee_designation employee_salary employee_bonus\n"
     ]
    }
   ],
   "source": [
    "akanksha.detail_of_employee_whole_details()"
   ]
  },
  {
   "cell_type": "code",
   "execution_count": 17,
   "id": "bfa9c418-d22e-4fc5-b2f4-831d879cbd90",
   "metadata": {},
   "outputs": [],
   "source": [
    "class Rental_vehicle:\n",
    "    def __init__(self,tenant_of_the_vehicle,company_of_vehicle,chassis_number,engion_number,date_of_rent,date_of_return, availability_of_vahicle):\n",
    "        self.tenant_of_the_vehicle = tenant_of_the_vehicle\n",
    "        self.company_of_vehicle = company_of_vehicle\n",
    "        self.chassis_number = chassis_number\n",
    "        self.engion_number = engion_number\n",
    "        self.date_of_rent = date_of_rent\n",
    "        self.date_of_return = date_of_return\n",
    "        self.availability_of_vahicle = availability_of_vahicle\n",
    "        \n",
    "        \n",
    "    def detail_tenent_of_the_vehicle(self):\n",
    "        print(self.tenant_of_the_vehicle)\n",
    "        \n",
    "    def detail_company_of_vehicle(self):\n",
    "        print(self.company_of_vehicle)\n",
    "        \n",
    "    def detail_chassis_number(self):\n",
    "        print(self.chassis_number)\n",
    "        \n",
    "    def detail_engion_number(self):\n",
    "        print(self.engion_number)\n",
    "        \n",
    "    def detail_date_of_rent(self):\n",
    "        print(self.date_of_rent)\n",
    "        \n",
    "    def detail_return_of_date(self):\n",
    "        print(self.date_of_return)\n",
    "        \n",
    "    def detail_availability_of_vahicle(self):\n",
    "        print(self.availability_of_vahicle)\n",
    "      \n",
    "    \n",
    "   \n",
    "    \n",
    "    \n",
    "    \n",
    "    "
   ]
  },
  {
   "cell_type": "code",
   "execution_count": 18,
   "id": "ffec950d-bc07-4a9a-bd2d-83814596f600",
   "metadata": {},
   "outputs": [],
   "source": [
    "user1 = Rental_vehicle('nishant','Honda',2212,'A345',11-10-2023,11-10-2024,['paasionpro','hondacity','verna','hyndai','grandi10'])"
   ]
  },
  {
   "cell_type": "code",
   "execution_count": 19,
   "id": "ad9b685f-9be3-4e80-a624-c5b8f9989bf7",
   "metadata": {},
   "outputs": [
    {
     "name": "stdout",
     "output_type": "stream",
     "text": [
      "A345\n"
     ]
    }
   ],
   "source": [
    "user1.detail_engion_number()"
   ]
  },
  {
   "cell_type": "code",
   "execution_count": 20,
   "id": "2e4278a2-46b7-4d24-9724-0fc818db1022",
   "metadata": {},
   "outputs": [
    {
     "name": "stdout",
     "output_type": "stream",
     "text": [
      "['paasionpro', 'hondacity', 'verna', 'hyndai', 'grandi10']\n"
     ]
    }
   ],
   "source": [
    "user1.detail_availability_of_vahicle()"
   ]
  },
  {
   "cell_type": "code",
   "execution_count": 29,
   "id": "1ff3a36c-a86e-414d-a96b-50a2ae4f281c",
   "metadata": {},
   "outputs": [],
   "source": [
    "user2 = Rental_vehicle('Akanksha','verna',2516,'B335',(12-1-2023),(12-1-2024),['paasionpro','hondacity','verna','hyndai','grandi10'])"
   ]
  },
  {
   "cell_type": "code",
   "execution_count": 22,
   "id": "42d30690-5e35-44fd-8431-ff6dccd218f5",
   "metadata": {},
   "outputs": [
    {
     "name": "stdout",
     "output_type": "stream",
     "text": [
      "['paasionpro', 'hondacity', 'verna', 'hyndai', 'grandi10']\n"
     ]
    }
   ],
   "source": [
    "user2.detail_availability_of_vahicle()"
   ]
  },
  {
   "cell_type": "code",
   "execution_count": 30,
   "id": "07b5f5a9-bee7-4c31-9774-78ca04b31e1c",
   "metadata": {},
   "outputs": [
    {
     "name": "stdout",
     "output_type": "stream",
     "text": [
      "-2013\n"
     ]
    }
   ],
   "source": [
    "user2.detail_return_of_date()"
   ]
  },
  {
   "cell_type": "code",
   "execution_count": 31,
   "id": "934bd216-0f8c-4314-ae62-c21e7d185f0e",
   "metadata": {},
   "outputs": [
    {
     "name": "stdout",
     "output_type": "stream",
     "text": [
      "-2012\n"
     ]
    }
   ],
   "source": [
    "user2.detail_date_of_rent()"
   ]
  },
  {
   "cell_type": "code",
   "execution_count": 10,
   "id": "12bf2850-4bc4-4fc1-bc72-fe1048faf6b2",
   "metadata": {},
   "outputs": [],
   "source": [
    "class Library_Management:\n",
    "    def __init__(self,Title_of_Book,Author_of_book,user_name,user_id,Password,Borrow_Book,availability_of_book,Recent_launched_Book):\n",
    "        self.Title_of_Book = Title_of_Book\n",
    "        self.Author_of_book = Author_of_book\n",
    "        self.user_name = user_name\n",
    "        self.user_id =  user_id   \n",
    "        self.Password = Password\n",
    "        self.Borrow_Book = Borrow_Book\n",
    "        self.availability_of_book = ['fear_not_be_strong','the_power_of_positive_attitute','Elon_musk,Believe_in_yourself','story_we_never_tell','jhumba_lahiri','The_Vanishing_Bentley_Little']\n",
    "        self.Recent_launched_Book = ['jhumba_lahiri','The_Vanishing_Bentley_Little']\n",
    "        \n",
    "    def detail_Title_of_Book(self):\n",
    "        print(self.Title_of_Book)\n",
    "        \n",
    "    def detail_Author_of_book(self):\n",
    "        print(self.Author_of_book)\n",
    "        \n",
    "    def detail_login_detail(self):\n",
    "        print(\"user_name\" + \"user_id\" + \"Password\")\n",
    "        return user_name + user_id + Password\n",
    "    \n",
    "    def detail_Borrow_Book(self):\n",
    "        print(self.Borrow_Book)\n",
    "        \n",
    "    def detail_availability_of_book(self):\n",
    "        return ['fear_not_be_strong','the_power_of_positive_attitute','Elon_musk,Believe_in_yourself','story_we_never_tell','jhumba_lahiri','The_Vanishing_Bentley_Little']\n",
    "        \n",
    "    \n",
    "    def detail_Recent_launched_Book(self):\n",
    "        return ['jhumba_lahiri','The_Vanishing_Bentley_Little']\n",
    "        \n",
    "    \n",
    "    \n",
    "   \n",
    "    "
   ]
  },
  {
   "cell_type": "code",
   "execution_count": 11,
   "id": "6ae0b48f-6662-4069-a3cb-4c8617475331",
   "metadata": {},
   "outputs": [],
   "source": [
    " user1 =  Library_Management('fear_not_be_strong','Swami Tathagatananda','akanksha','akanksha1@gmail.com','akanksha123','fear_not_be_strong',['fear_not_be_strong','the_power_of_positive_attitute','Elon_musk,Believe_in_yourself','story_we_never_tell','jhumba_lahiri','The_Vanishing_Bentley_Little']\n",
    "        ,['jhumba_lahiri','The_Vanishing_Bentley_Little'])\n"
   ]
  },
  {
   "cell_type": "code",
   "execution_count": 9,
   "id": "380df6d7-9212-468e-90a1-efc391083082",
   "metadata": {},
   "outputs": [
    {
     "name": "stdout",
     "output_type": "stream",
     "text": [
      "fear_not_be_strong\n"
     ]
    }
   ],
   "source": [
    "user1.detail_Title_of_Book()"
   ]
  },
  {
   "cell_type": "code",
   "execution_count": 12,
   "id": "30c0876f-4b0c-4574-b58b-2c1261239ded",
   "metadata": {},
   "outputs": [
    {
     "data": {
      "text/plain": [
       "['jhumba_lahiri', 'The_Vanishing_Bentley_Little']"
      ]
     },
     "execution_count": 12,
     "metadata": {},
     "output_type": "execute_result"
    }
   ],
   "source": [
    "user1.detail_Recent_launched_Book()"
   ]
  },
  {
   "cell_type": "code",
   "execution_count": 13,
   "id": "8f74a7c8-4e44-4459-aa15-e24fafd369e6",
   "metadata": {},
   "outputs": [
    {
     "data": {
      "text/plain": [
       "['fear_not_be_strong',\n",
       " 'the_power_of_positive_attitute',\n",
       " 'Elon_musk,Believe_in_yourself',\n",
       " 'story_we_never_tell',\n",
       " 'jhumba_lahiri',\n",
       " 'The_Vanishing_Bentley_Little']"
      ]
     },
     "execution_count": 13,
     "metadata": {},
     "output_type": "execute_result"
    }
   ],
   "source": [
    "user1.detail_availability_of_book()"
   ]
  },
  {
   "cell_type": "code",
   "execution_count": 20,
   "id": "f9fe5db7-b3c2-4386-a25b-5c79f3a14dea",
   "metadata": {},
   "outputs": [],
   "source": [
    "class AreaPerimeter:\n",
    "    def __init__(self, length, width, height):\n",
    "        self.length = length\n",
    "        self.width = width\n",
    "        self.height = height\n",
    "        \n",
    "    def detail_of_length(self):\n",
    "        print(self.length)\n",
    "        \n",
    "    def detail_of_width(self):\n",
    "        print(self.width)\n",
    "        \n",
    "    def detail_of_height(self):\n",
    "        print(self.height)\n",
    "        \n",
    "    def detail_of_area(self):\n",
    "        return 2 * (self.length + self.width) * self.height\n",
    "    \n",
    "    def detail_of_perimeter(self):\n",
    "        return 2 * (self.length + self.width + self.height)\n"
   ]
  },
  {
   "cell_type": "code",
   "execution_count": 18,
   "id": "c9e42939-fa75-4a9c-b911-ee992b19698e",
   "metadata": {},
   "outputs": [],
   "source": [
    "user1 = AreaPerimeter(5,3,6)"
   ]
  },
  {
   "cell_type": "code",
   "execution_count": 19,
   "id": "09bee5c3-baf9-4182-9092-065c8019f672",
   "metadata": {},
   "outputs": [
    {
     "data": {
      "text/plain": [
       "96"
      ]
     },
     "execution_count": 19,
     "metadata": {},
     "output_type": "execute_result"
    }
   ],
   "source": [
    "user1.detail_of_area()"
   ]
  },
  {
   "cell_type": "code",
   "execution_count": 21,
   "id": "92a8ea70-f3b5-4ef9-b796-43d77aefb21a",
   "metadata": {},
   "outputs": [
    {
     "data": {
      "text/plain": [
       "28"
      ]
     },
     "execution_count": 21,
     "metadata": {},
     "output_type": "execute_result"
    }
   ],
   "source": [
    "user1.detail_of_perimeter()"
   ]
  },
  {
   "cell_type": "code",
   "execution_count": 13,
   "id": "9cd544ad-75d5-4be7-b7f4-df1ec9570d98",
   "metadata": {},
   "outputs": [],
   "source": [
    "class ClassManagement:\n",
    "    def __init__(self, student_id, student_name):\n",
    "        self.student_id = student_id\n",
    "        self.student_name = student_name\n",
    "\n",
    "    def detail_of_student_id(self):\n",
    "        print(\"Student ID:\", self.student_id)\n",
    "\n",
    "    def detail_of_student_name(self):\n",
    "        print(\"Student Name:\", self.student_name)\n",
    "\n",
    "    def detail_of_grade(self):\n",
    "        marks = int(input(\"Enter the marks: \"))\n",
    "\n",
    "        if marks >= 95:\n",
    "            print(\"Grade: A+\")\n",
    "        elif marks >= 90:\n",
    "            print(\"Grade: A\")\n",
    "        elif marks >= 75:\n",
    "            print(\"Grade: B\")\n",
    "        else:\n",
    "            print(\"Grade: C\")"
   ]
  },
  {
   "cell_type": "code",
   "execution_count": 16,
   "id": "eb89d3f0-06ad-456b-8f5c-02d856caaa6b",
   "metadata": {},
   "outputs": [],
   "source": [
    "user1= ClassManagement(1,\"Akanksha\")"
   ]
  },
  {
   "cell_type": "code",
   "execution_count": 18,
   "id": "f02c7e49-aafa-4cf6-a729-d8b87940dfc4",
   "metadata": {},
   "outputs": [
    {
     "name": "stdout",
     "output_type": "stream",
     "text": [
      "Student ID: 1\n"
     ]
    }
   ],
   "source": [
    "user1.detail_of_student_id()"
   ]
  },
  {
   "cell_type": "code",
   "execution_count": 19,
   "id": "8ef5a7d9-e80d-49f8-9831-6d968d147727",
   "metadata": {},
   "outputs": [
    {
     "name": "stdout",
     "output_type": "stream",
     "text": [
      "Enter the marks:  89\n"
     ]
    },
    {
     "name": "stdout",
     "output_type": "stream",
     "text": [
      "Grade: B\n"
     ]
    }
   ],
   "source": [
    "user1. detail_of_grade()"
   ]
  },
  {
   "cell_type": "code",
   "execution_count": 42,
   "id": "2e39355b-030b-4249-a15d-1224367a17d9",
   "metadata": {},
   "outputs": [],
   "source": [
    "class EmailLogin:\n",
    "    def __init__(self, user_id, password, recipient_id, recipient_subject):\n",
    "        self.user_id = user_id\n",
    "        self.password = password\n",
    "        self.recipient_id = recipient_id\n",
    "        self.recipient_subject = recipient_subject\n",
    "        \n",
    "    def login_detail_of_email(self):\n",
    "        print(\"User ID:\", self.user_id)\n",
    "        \n",
    "    def enter_the_password(self):\n",
    "        entered_password = input(\"Enter the password: \")\n",
    "        \n",
    "        if entered_password == self.password:\n",
    "            print(\"Login successful for email ID:\", self.user_id)\n",
    "        else:\n",
    "            print(\"Forgot password?\")\n",
    "            \n",
    "    def detail_of_recipient(self):\n",
    "        print(\"Recipient ID:\", self.recipient_id)\n",
    "        print(\"Recipient Subject:\", self.recipient_subject)\n",
    "\n",
    "\n",
    "\n",
    "            \n",
    "            \n",
    "            \n",
    "        \n",
    "            \n",
    "        \n",
    "        "
   ]
  },
  {
   "cell_type": "code",
   "execution_count": 40,
   "id": "15e12d6b-5913-412f-a309-1df727b908eb",
   "metadata": {},
   "outputs": [],
   "source": [
    "user1 = email_login(\"nishant1@gmail.com\", \"nishant@1\", \"akanksha1@gmail.com\" , \"Purchase detail\")"
   ]
  },
  {
   "cell_type": "code",
   "execution_count": 30,
   "id": "53c6c08b-17b9-47af-9191-6635eb76abdf",
   "metadata": {},
   "outputs": [
    {
     "name": "stdout",
     "output_type": "stream",
     "text": [
      "enter the password akansha123\n"
     ]
    },
    {
     "name": "stdout",
     "output_type": "stream",
     "text": [
      "forgot password\n"
     ]
    }
   ],
   "source": [
    "user1.enter_the_Password()"
   ]
  },
  {
   "cell_type": "code",
   "execution_count": 45,
   "id": "9649d81c-13d1-43fa-924a-ed21563d504c",
   "metadata": {},
   "outputs": [
    {
     "ename": "AttributeError",
     "evalue": "'email_login' object has no attribute 'detail_of_recipient'",
     "output_type": "error",
     "traceback": [
      "\u001b[0;31m---------------------------------------------------------------------------\u001b[0m",
      "\u001b[0;31mAttributeError\u001b[0m                            Traceback (most recent call last)",
      "Cell \u001b[0;32mIn[45], line 1\u001b[0m\n\u001b[0;32m----> 1\u001b[0m \u001b[43muser1\u001b[49m\u001b[38;5;241;43m.\u001b[39;49m\u001b[43mdetail_of_recipient\u001b[49m()\n",
      "\u001b[0;31mAttributeError\u001b[0m: 'email_login' object has no attribute 'detail_of_recipient'"
     ]
    }
   ],
   "source": [
    "user1.detail_of_recipient()"
   ]
  },
  {
   "cell_type": "code",
   "execution_count": 49,
   "id": "50ebcc23-43df-4b26-913b-0a1d7636eff1",
   "metadata": {},
   "outputs": [],
   "source": [
    "class socialmediaprofile:\n",
    "    def __init__(self,user_name,user_id,password ,post ,post_keyword):\n",
    "        self.user_name = user_name\n",
    "        self.user_id = user_id\n",
    "        self.password = password\n",
    "        self.post = post\n",
    "        self.post_keyword = post_keyword\n",
    "        \n",
    "    def detail_of_user_name(self):\n",
    "        print(self.user_name )\n",
    "        \n",
    "    def detail_of_user_id(self):\n",
    "        print(self.user_id )\n",
    "        \n",
    "    def enter_the_password(self):\n",
    "        entered_password = input(\"Enter the password: \")\n",
    "        \n",
    "        if entered_password == self.password:\n",
    "            print(\"Login successful for email ID:\", self.user_id)\n",
    "        else:\n",
    "            print(\"Forgot password?\")\n",
    "            \n",
    "            \n",
    "    def add_the_post(self):\n",
    "        post == input(\"enter the link\")\n",
    "        print(self.post)\n",
    "        \n",
    "    def add_the_keyword(self):\n",
    "        keyword == input(\"enter the keyword\")\n",
    "        print(self.post_keyword)\n",
    "        \n",
    "            \n",
    "    "
   ]
  },
  {
   "cell_type": "code",
   "execution_count": 52,
   "id": "edf6edb1-204d-4713-a282-b859fc292280",
   "metadata": {},
   "outputs": [],
   "source": [
    "user1 = socialmediaprofile(\"akanksha\",\"akanksha1@gmail.com\",\"akanksha@1\",\" \",\" \")"
   ]
  },
  {
   "cell_type": "code",
   "execution_count": 1,
   "id": "d87e7ec7-ac79-437e-9224-0c6b76c38744",
   "metadata": {},
   "outputs": [
    {
     "ename": "NameError",
     "evalue": "name 'user1' is not defined",
     "output_type": "error",
     "traceback": [
      "\u001b[0;31m---------------------------------------------------------------------------\u001b[0m",
      "\u001b[0;31mNameError\u001b[0m                                 Traceback (most recent call last)",
      "Cell \u001b[0;32mIn[1], line 1\u001b[0m\n\u001b[0;32m----> 1\u001b[0m \u001b[43muser1\u001b[49m\u001b[38;5;241m.\u001b[39mdetail_of_user_name()\n",
      "\u001b[0;31mNameError\u001b[0m: name 'user1' is not defined"
     ]
    }
   ],
   "source": [
    "user1.detail_of_user_name()"
   ]
  },
  {
   "cell_type": "code",
   "execution_count": null,
   "id": "d17207a8-3032-4246-8ea5-86b1a945d9e1",
   "metadata": {},
   "outputs": [],
   "source": []
  },
  {
   "cell_type": "code",
   "execution_count": 15,
   "id": "8be86554-58b1-438e-9151-aced4615ea2f",
   "metadata": {},
   "outputs": [],
   "source": [
    "class ProductInventory:\n",
    "    def __init__(self, brand, product_type, product_name, quantity, price):\n",
    "        self.brand = brand\n",
    "        self.product_type = product_type\n",
    "        self.product_name = product_name\n",
    "        self.quantity = quantity\n",
    "        self.price = price\n",
    "\n",
    "    def display_brand(self):\n",
    "        print(\"Brand:\", self.brand)\n",
    "\n",
    "    def display_product_type(self):\n",
    "        print(\"Type:\", self.product_type)\n",
    "\n",
    "    def display_product_name(self):\n",
    "        print(\"Name:\", self.product_name)\n",
    "\n",
    "    def display_quantity(self):\n",
    "        print(\"Quantity:\", self.quantity)\n",
    "\n",
    "    def display_price(self):\n",
    "        print(\"Price:\", self.price)\n",
    "    "
   ]
  },
  {
   "cell_type": "code",
   "execution_count": 16,
   "id": "ea1c05ab-01c8-4e67-aedc-674cf1b9dffa",
   "metadata": {},
   "outputs": [],
   "source": [
    "product1 = ProductInventory(\"BrandX\", \"Electronics\", \"Smartphone\", 100, 599.99)"
   ]
  },
  {
   "cell_type": "code",
   "execution_count": 17,
   "id": "0d04b74f-48fc-4910-856b-5cfc28cb43f6",
   "metadata": {},
   "outputs": [
    {
     "name": "stdout",
     "output_type": "stream",
     "text": [
      "Type: Electronics\n"
     ]
    }
   ],
   "source": [
    "product1.display_product_type()"
   ]
  },
  {
   "cell_type": "code",
   "execution_count": 18,
   "id": "5b317b8d-0ed9-45f9-97bc-9d6ddf4dfd58",
   "metadata": {},
   "outputs": [],
   "source": [
    "class ToDoList:\n",
    "    def __init__(self):\n",
    "        self.tasks = []\n",
    "\n",
    "    def add_task(self, task, due_date):\n",
    "        self.tasks.append({\"task\": task, \"due_date\": due_date, \"completed\": False})\n",
    "\n",
    "    def mark_task_completed(self, task_name):\n",
    "        for task in self.tasks:\n",
    "            if task[\"task\"] == task_name:\n",
    "                task[\"completed\"] = True\n",
    "                print(f'Task \"{task_name}\" marked as completed.')\n",
    "                return\n",
    "        print(f'Task \"{task_name}\" not found in the to-do list.')\n",
    "\n",
    "    def display_pending_tasks(self):\n",
    "        pending_tasks = [task for task in self.tasks if not task[\"completed\"]]\n",
    "        if pending_tasks:\n",
    "            print(\"Pending Tasks:\")\n",
    "            for task in pending_tasks:\n",
    "                print(f'Task: {task[\"task\"]}, Due Date: {task[\"due_date\"]}')\n",
    "        else:\n",
    "            print(\"No pending tasks in the to-do list.\")\n"
   ]
  },
  {
   "cell_type": "code",
   "execution_count": 19,
   "id": "749bbc08-fd32-4849-9968-1b745687948f",
   "metadata": {},
   "outputs": [
    {
     "name": "stdout",
     "output_type": "stream",
     "text": [
      "Task \"Buy groceries\" marked as completed.\n",
      "Pending Tasks:\n",
      "Task: Complete homework, Due Date: 2023-10-30\n",
      "Task: Read a book, Due Date: 2023-11-15\n"
     ]
    }
   ],
   "source": [
    "my_todo_list = ToDoList()\n",
    "my_todo_list.add_task(\"Complete homework\", \"2023-10-30\")\n",
    "my_todo_list.add_task(\"Buy groceries\", \"2023-11-05\")\n",
    "my_todo_list.add_task(\"Read a book\", \"2023-11-15\")\n",
    "\n",
    "my_todo_list.mark_task_completed(\"Buy groceries\")\n",
    "\n",
    "my_todo_list.display_pending_tasks()"
   ]
  },
  {
   "cell_type": "code",
   "execution_count": null,
   "id": "e89e13d3-d21e-4b0d-858e-e2d983a3e278",
   "metadata": {},
   "outputs": [],
   "source": []
  }
 ],
 "metadata": {
  "kernelspec": {
   "display_name": "Python 3 (ipykernel)",
   "language": "python",
   "name": "python3"
  },
  "language_info": {
   "codemirror_mode": {
    "name": "ipython",
    "version": 3
   },
   "file_extension": ".py",
   "mimetype": "text/x-python",
   "name": "python",
   "nbconvert_exporter": "python",
   "pygments_lexer": "ipython3",
   "version": "3.10.8"
  }
 },
 "nbformat": 4,
 "nbformat_minor": 5
}
