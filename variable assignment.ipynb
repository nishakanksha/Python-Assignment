{
 "cells": [
  {
   "cell_type": "code",
   "execution_count": 12,
   "id": "5af0be3e-5120-4438-9929-386c3f82c873",
   "metadata": {},
   "outputs": [
    {
     "name": "stdout",
     "output_type": "stream",
     "text": [
      "5 10\n"
     ]
    }
   ],
   "source": [
    "x=10\n",
    "y=5\n",
    "x=x-y\n",
    "y=y+y\n",
    "print(x,y)"
   ]
  },
  {
   "cell_type": "code",
   "execution_count": 19,
   "id": "3d2af537-1dc0-4347-9398-1a45b0ed6470",
   "metadata": {},
   "outputs": [
    {
     "name": "stdout",
     "output_type": "stream",
     "text": [
      "enter the number 10\n",
      "enter the number 5\n"
     ]
    },
    {
     "name": "stdout",
     "output_type": "stream",
     "text": [
      "area of rectangle: 50\n"
     ]
    }
   ],
   "source": [
    " l = int(input(\"enter the number\"))\n",
    " b = int(input(\"enter the number\"))\n",
    "area = l* b\n",
    "print(\"area of rectangle:\",area)                    "
   ]
  },
  {
   "cell_type": "code",
   "execution_count": 22,
   "id": "2332425a-ec28-4d1a-8bcc-3e7353e3c707",
   "metadata": {},
   "outputs": [
    {
     "name": "stdout",
     "output_type": "stream",
     "text": [
      "enter the value 32\n"
     ]
    },
    {
     "name": "stdout",
     "output_type": "stream",
     "text": [
      "convert temprature celsius to fahrenheit: 89.6\n"
     ]
    }
   ],
   "source": [
    "temprature_in_celsius = int(input(\"enter the value\"))\n",
    "fahrenheit = (temprature_in_celsius*9/5) + 32\n",
    "print(\"convert temprature celsius to fahrenheit:\",fahrenheit)"
   ]
  },
  {
   "cell_type": "code",
   "execution_count": null,
   "id": "919ed3c1-1122-44d9-863d-bacc52f6b572",
   "metadata": {},
   "outputs": [],
   "source": []
  }
 ],
 "metadata": {
  "kernelspec": {
   "display_name": "Python 3 (ipykernel)",
   "language": "python",
   "name": "python3"
  },
  "language_info": {
   "codemirror_mode": {
    "name": "ipython",
    "version": 3
   },
   "file_extension": ".py",
   "mimetype": "text/x-python",
   "name": "python",
   "nbconvert_exporter": "python",
   "pygments_lexer": "ipython3",
   "version": "3.10.8"
  }
 },
 "nbformat": 4,
 "nbformat_minor": 5
}
