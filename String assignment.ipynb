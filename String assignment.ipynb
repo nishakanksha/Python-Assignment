{
 "cells": [
  {
   "cell_type": "code",
   "execution_count": 1,
   "id": "ed6d20d4-7db5-4ad2-9b20-ffb7b72f34b1",
   "metadata": {},
   "outputs": [
    {
     "name": "stdout",
     "output_type": "stream",
     "text": [
      "enter the string akanksha\n"
     ]
    },
    {
     "name": "stdout",
     "output_type": "stream",
     "text": [
      "8\n"
     ]
    }
   ],
   "source": [
    "s= input(\"enter the string\")\n",
    "print(len(s))"
   ]
  },
  {
   "cell_type": "code",
   "execution_count": 4,
   "id": "de810727-fa98-4a75-a957-78a34425c19c",
   "metadata": {},
   "outputs": [
    {
     "data": {
      "text/plain": [
       "(5, 6, 3, 3, 2)"
      ]
     },
     "execution_count": 4,
     "metadata": {},
     "output_type": "execute_result"
    }
   ],
   "source": [
    "x = \"python is a high level general purpose programming language\"\n",
    "x.count('a'),x.count(\"e\"),x.count(\"i\"),x.count(\"o\"),x.count(\"u\")"
   ]
  },
  {
   "cell_type": "code",
   "execution_count": 16,
   "id": "bb815dfc-74e1-4d71-a8e6-de26d7866ede",
   "metadata": {},
   "outputs": [
    {
     "data": {
      "text/plain": [
       "'slliksw'"
      ]
     },
     "execution_count": 16,
     "metadata": {},
     "output_type": "execute_result"
    }
   ],
   "source": [
    "x= \"pwskills\"\n",
    "x[ :0:-1]"
   ]
  },
  {
   "cell_type": "code",
   "execution_count": 18,
   "id": "ed71dc2c-0496-4416-affc-f3a4e85bc41a",
   "metadata": {},
   "outputs": [
    {
     "name": "stdout",
     "output_type": "stream",
     "text": [
      "Enter a string:  akanksha\n"
     ]
    },
    {
     "name": "stdout",
     "output_type": "stream",
     "text": [
      "'akanksha' is not a palindrome.\n"
     ]
    }
   ],
   "source": [
    "s = input(\"Enter a string: \")\n",
    "s = s.replace(\" \", \"\").lower()\n",
    "if s == s[::-1]:\n",
    "    print(f\"'{s}' is a palindrome.\")\n",
    "else:\n",
    "    print(f\"'{s}' is not a palindrome.\")\n"
   ]
  },
  {
   "cell_type": "code",
   "execution_count": null,
   "id": "ef248967-ae4a-49e4-ab67-b686cd2faad5",
   "metadata": {},
   "outputs": [],
   "source": [
    "s1 "
   ]
  }
 ],
 "metadata": {
  "kernelspec": {
   "display_name": "Python 3 (ipykernel)",
   "language": "python",
   "name": "python3"
  },
  "language_info": {
   "codemirror_mode": {
    "name": "ipython",
    "version": 3
   },
   "file_extension": ".py",
   "mimetype": "text/x-python",
   "name": "python",
   "nbconvert_exporter": "python",
   "pygments_lexer": "ipython3",
   "version": "3.10.8"
  }
 },
 "nbformat": 4,
 "nbformat_minor": 5
}
